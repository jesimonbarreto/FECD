{
 "cells": [
  {
   "cell_type": "markdown",
   "metadata": {},
   "source": [
    "# Universidade Federal de Minas Gerais \n",
    "## ICEX - Departamento de Ciência de Computação\n",
    "\n",
    "### Trabalho de FECD\n",
    " \n",
    "##### Professor Dr. Renato Assunção\n",
    "###### Aluno: Jesimon Barreto Santos - 2016070093"
   ]
  },
  {
   "cell_type": "markdown",
   "metadata": {},
   "source": [
    "### Part 2\n",
    "\n",
    "Seção 2.2: Exerc 2, 3, 4, 8, 13, 17, 19, 23.\n",
    "\n",
    "\n",
    "- 2  Estimaria utilizando o teorema de bayes. Esse teorema é dado por P(A|B) = P(B|A)P(A)/P(B). No problema foi dado P(B|A) > 0.7 e P(B)=0.7, e então, sabe-se que o fator tem valor mais de 1. Dessa maneira, falta o P(A) - que é a probabilidade do evento ter um tumor beningno- Então eu iria olhar a frequencia de pessoas que foram detectadas com tumor beningno entre todas as pessoas testadas.\n",
    "\n",
    "- 3 \n",
    "\n",
    "- 4 1 V, 2 F, 3 V, 4 F\n",
    "\n",
    "- 8 \n",
    "\n",
    "- 13\n",
    "\n",
    "- 17\n",
    "\n",
    "- 19 \n",
    "\n",
    "- 23"
   ]
  },
  {
   "cell_type": "code",
   "execution_count": null,
   "metadata": {},
   "outputs": [],
   "source": []
  }
 ],
 "metadata": {
  "kernelspec": {
   "display_name": "Python 3",
   "language": "python",
   "name": "python3"
  },
  "language_info": {
   "codemirror_mode": {
    "name": "ipython",
    "version": 3
   },
   "file_extension": ".py",
   "mimetype": "text/x-python",
   "name": "python",
   "nbconvert_exporter": "python",
   "pygments_lexer": "ipython3",
   "version": "3.6.5"
  }
 },
 "nbformat": 4,
 "nbformat_minor": 2
}
